{
  "nbformat": 4,
  "nbformat_minor": 0,
  "metadata": {
    "colab": {
      "provenance": []
    },
    "kernelspec": {
      "name": "python3",
      "display_name": "Python 3"
    },
    "language_info": {
      "name": "python"
    }
  },
  "cells": [
    {
      "cell_type": "code",
      "execution_count": null,
      "metadata": {
        "id": "YBcQNe3OIxk7"
      },
      "outputs": [],
      "source": [
        "import numpy as np"
      ]
    },
    {
      "cell_type": "code",
      "source": [
        "a= np.array([1,2,3,4])"
      ],
      "metadata": {
        "id": "ntuqTU6vJVCU"
      },
      "execution_count": null,
      "outputs": []
    },
    {
      "cell_type": "code",
      "source": [
        "a+2"
      ],
      "metadata": {
        "colab": {
          "base_uri": "https://localhost:8080/"
        },
        "id": "m1LVYNtUI5f8",
        "outputId": "d31c1f62-db0c-4d61-e47f-4b2e98bdc4af"
      },
      "execution_count": null,
      "outputs": [
        {
          "output_type": "execute_result",
          "data": {
            "text/plain": [
              "array([3, 4, 5, 6])"
            ]
          },
          "metadata": {},
          "execution_count": 4
        }
      ]
    },
    {
      "cell_type": "code",
      "source": [
        "a-2"
      ],
      "metadata": {
        "colab": {
          "base_uri": "https://localhost:8080/"
        },
        "id": "RLpSDe9rI69S",
        "outputId": "70043d2e-b939-4c01-a239-6931e97c0c8e"
      },
      "execution_count": null,
      "outputs": [
        {
          "output_type": "execute_result",
          "data": {
            "text/plain": [
              "array([-1,  0,  1,  2])"
            ]
          },
          "metadata": {},
          "execution_count": 5
        }
      ]
    },
    {
      "cell_type": "code",
      "source": [
        "a*2"
      ],
      "metadata": {
        "colab": {
          "base_uri": "https://localhost:8080/"
        },
        "id": "w9rpcpHcI7-v",
        "outputId": "79b89447-4c22-4446-89be-7dfee9fda03a"
      },
      "execution_count": null,
      "outputs": [
        {
          "output_type": "execute_result",
          "data": {
            "text/plain": [
              "array([2, 4, 6, 8])"
            ]
          },
          "metadata": {},
          "execution_count": 6
        }
      ]
    },
    {
      "cell_type": "code",
      "source": [
        "a/2"
      ],
      "metadata": {
        "colab": {
          "base_uri": "https://localhost:8080/"
        },
        "id": "1wwufGT-I9UF",
        "outputId": "bc39360f-a52f-443c-f9fb-ed52efef3842"
      },
      "execution_count": null,
      "outputs": [
        {
          "output_type": "execute_result",
          "data": {
            "text/plain": [
              "array([0.5, 1. , 1.5, 2. ])"
            ]
          },
          "metadata": {},
          "execution_count": 7
        }
      ]
    },
    {
      "cell_type": "code",
      "source": [
        "np.sin(a)"
      ],
      "metadata": {
        "colab": {
          "base_uri": "https://localhost:8080/"
        },
        "id": "yYlI7WNVI-jh",
        "outputId": "0c2b71e4-c4cf-497e-bca7-73a40f5a7a17"
      },
      "execution_count": null,
      "outputs": [
        {
          "output_type": "execute_result",
          "data": {
            "text/plain": [
              "array([ 0.84147098,  0.90929743,  0.14112001, -0.7568025 ])"
            ]
          },
          "metadata": {},
          "execution_count": 8
        }
      ]
    },
    {
      "cell_type": "code",
      "source": [
        "np.cos(a)"
      ],
      "metadata": {
        "colab": {
          "base_uri": "https://localhost:8080/"
        },
        "id": "-WsvqXAWJDP2",
        "outputId": "b96bb233-e0b3-468f-aec0-ad2d531d7888"
      },
      "execution_count": null,
      "outputs": [
        {
          "output_type": "execute_result",
          "data": {
            "text/plain": [
              "array([ 0.54030231, -0.41614684, -0.9899925 , -0.65364362])"
            ]
          },
          "metadata": {},
          "execution_count": 9
        }
      ]
    },
    {
      "cell_type": "code",
      "source": [
        "b=np.array([1,1,2,2])"
      ],
      "metadata": {
        "id": "eRgvB99dJIPi"
      },
      "execution_count": null,
      "outputs": []
    },
    {
      "cell_type": "code",
      "source": [
        "a+b"
      ],
      "metadata": {
        "colab": {
          "base_uri": "https://localhost:8080/"
        },
        "id": "BmVb07jiJMz9",
        "outputId": "f370dc8c-d4f7-4447-ceb4-eec5bbe2a0af"
      },
      "execution_count": null,
      "outputs": [
        {
          "output_type": "execute_result",
          "data": {
            "text/plain": [
              "array([2, 3, 5, 6])"
            ]
          },
          "metadata": {},
          "execution_count": 11
        }
      ]
    },
    {
      "cell_type": "code",
      "source": [
        "#Linear algebra"
      ],
      "metadata": {
        "id": "ZAyTAxunJdb5"
      },
      "execution_count": null,
      "outputs": []
    },
    {
      "cell_type": "code",
      "source": [
        "a=np.ones((3,3))\n",
        "a"
      ],
      "metadata": {
        "colab": {
          "base_uri": "https://localhost:8080/"
        },
        "id": "i6MOKm7PLA9Z",
        "outputId": "194769c6-1afa-40b2-bc3f-eb2273a96a8d"
      },
      "execution_count": null,
      "outputs": [
        {
          "output_type": "execute_result",
          "data": {
            "text/plain": [
              "array([[1., 1., 1.],\n",
              "       [1., 1., 1.],\n",
              "       [1., 1., 1.]])"
            ]
          },
          "metadata": {},
          "execution_count": 13
        }
      ]
    },
    {
      "cell_type": "code",
      "source": [
        "b=np.full((3,2),2)\n",
        "b"
      ],
      "metadata": {
        "colab": {
          "base_uri": "https://localhost:8080/"
        },
        "id": "A4zSDycdLBcH",
        "outputId": "ab46c55b-37bb-4a79-d4be-da175ef10f26"
      },
      "execution_count": null,
      "outputs": [
        {
          "output_type": "execute_result",
          "data": {
            "text/plain": [
              "array([[2, 2],\n",
              "       [2, 2],\n",
              "       [2, 2]])"
            ]
          },
          "metadata": {},
          "execution_count": 14
        }
      ]
    },
    {
      "cell_type": "code",
      "source": [
        "np.matmul(a,b)"
      ],
      "metadata": {
        "colab": {
          "base_uri": "https://localhost:8080/"
        },
        "id": "k1MKV2-zLBvi",
        "outputId": "e0a012dc-078a-46d6-e90d-ad93dbc43a76"
      },
      "execution_count": null,
      "outputs": [
        {
          "output_type": "execute_result",
          "data": {
            "text/plain": [
              "array([[6., 6.],\n",
              "       [6., 6.],\n",
              "       [6., 6.]])"
            ]
          },
          "metadata": {},
          "execution_count": 15
        }
      ]
    },
    {
      "cell_type": "code",
      "source": [
        "id=np.identity(3)\n",
        "id"
      ],
      "metadata": {
        "colab": {
          "base_uri": "https://localhost:8080/"
        },
        "id": "4ULdBDSfLYi6",
        "outputId": "3e1a195f-7ab9-429c-9704-668c1920015a"
      },
      "execution_count": null,
      "outputs": [
        {
          "output_type": "execute_result",
          "data": {
            "text/plain": [
              "array([[1., 0., 0.],\n",
              "       [0., 1., 0.],\n",
              "       [0., 0., 1.]])"
            ]
          },
          "metadata": {},
          "execution_count": 16
        }
      ]
    },
    {
      "cell_type": "code",
      "source": [
        "np.linalg.det(id)"
      ],
      "metadata": {
        "colab": {
          "base_uri": "https://localhost:8080/"
        },
        "id": "spA-gUNNLhlb",
        "outputId": "6b5adc9f-5a52-4857-9182-062edb87ab23"
      },
      "execution_count": null,
      "outputs": [
        {
          "output_type": "execute_result",
          "data": {
            "text/plain": [
              "1.0"
            ]
          },
          "metadata": {},
          "execution_count": 17
        }
      ]
    },
    {
      "cell_type": "markdown",
      "source": [
        "Statistics"
      ],
      "metadata": {
        "id": "39C2JZYMAIHH"
      }
    },
    {
      "cell_type": "code",
      "source": [
        "stats = np.array([[1,2,3],[4,5,6]])"
      ],
      "metadata": {
        "id": "7f7iMmNH-LRJ"
      },
      "execution_count": null,
      "outputs": []
    },
    {
      "cell_type": "code",
      "source": [
        "np.min(stats)"
      ],
      "metadata": {
        "colab": {
          "base_uri": "https://localhost:8080/"
        },
        "id": "FUHXDhZM-0-v",
        "outputId": "dbef0151-e1b6-42e7-fa06-02f7121d7869"
      },
      "execution_count": null,
      "outputs": [
        {
          "output_type": "execute_result",
          "data": {
            "text/plain": [
              "1"
            ]
          },
          "metadata": {},
          "execution_count": 22
        }
      ]
    },
    {
      "cell_type": "code",
      "source": [
        "np.min(stats,axis = 0)"
      ],
      "metadata": {
        "colab": {
          "base_uri": "https://localhost:8080/"
        },
        "id": "OKy8ZcrE-80i",
        "outputId": "7446979a-49d9-441c-b5c9-7d41ca32e623"
      },
      "execution_count": null,
      "outputs": [
        {
          "output_type": "execute_result",
          "data": {
            "text/plain": [
              "array([1, 2, 3])"
            ]
          },
          "metadata": {},
          "execution_count": 23
        }
      ]
    },
    {
      "cell_type": "code",
      "source": [
        "np.min(stats,axis = 1)"
      ],
      "metadata": {
        "colab": {
          "base_uri": "https://localhost:8080/"
        },
        "id": "4mATNrh__LLy",
        "outputId": "c9805e51-e413-4ba7-a9ef-3397fa23e73d"
      },
      "execution_count": null,
      "outputs": [
        {
          "output_type": "execute_result",
          "data": {
            "text/plain": [
              "array([1, 4])"
            ]
          },
          "metadata": {},
          "execution_count": 24
        }
      ]
    },
    {
      "cell_type": "code",
      "source": [
        "np.max(stats)"
      ],
      "metadata": {
        "colab": {
          "base_uri": "https://localhost:8080/"
        },
        "id": "moNkbPuy-5im",
        "outputId": "f40e6951-232e-4184-f464-83e6aecf3d7a"
      },
      "execution_count": null,
      "outputs": [
        {
          "output_type": "execute_result",
          "data": {
            "text/plain": [
              "6"
            ]
          },
          "metadata": {},
          "execution_count": 25
        }
      ]
    },
    {
      "cell_type": "code",
      "source": [
        "np.sum(stats)"
      ],
      "metadata": {
        "colab": {
          "base_uri": "https://localhost:8080/"
        },
        "id": "Gj6ZJQez_a7H",
        "outputId": "4b8a797d-1667-4fbd-e6a3-935edcf457b0"
      },
      "execution_count": null,
      "outputs": [
        {
          "output_type": "execute_result",
          "data": {
            "text/plain": [
              "21"
            ]
          },
          "metadata": {},
          "execution_count": 26
        }
      ]
    },
    {
      "cell_type": "code",
      "source": [
        "np.sum(stats,axis=0)"
      ],
      "metadata": {
        "colab": {
          "base_uri": "https://localhost:8080/"
        },
        "id": "bY00blMS_eJ3",
        "outputId": "6a22e946-fd1f-40b4-8368-55acab18fb6f"
      },
      "execution_count": null,
      "outputs": [
        {
          "output_type": "execute_result",
          "data": {
            "text/plain": [
              "array([5, 7, 9])"
            ]
          },
          "metadata": {},
          "execution_count": 27
        }
      ]
    },
    {
      "cell_type": "code",
      "source": [
        "np.sum(stats,axis=1)"
      ],
      "metadata": {
        "colab": {
          "base_uri": "https://localhost:8080/"
        },
        "id": "QbSQsXkq_lRH",
        "outputId": "11746845-bc11-4a8f-87e7-de27745c8663"
      },
      "execution_count": null,
      "outputs": [
        {
          "output_type": "execute_result",
          "data": {
            "text/plain": [
              "array([ 6, 15])"
            ]
          },
          "metadata": {},
          "execution_count": 28
        }
      ]
    },
    {
      "cell_type": "markdown",
      "source": [
        "Rearrange"
      ],
      "metadata": {
        "id": "82gr1XRqAQlR"
      }
    },
    {
      "cell_type": "code",
      "source": [
        "before = np.array([[1,2,3,4],[5,6,7,8]])"
      ],
      "metadata": {
        "id": "xCvjUOu1AT2y"
      },
      "execution_count": null,
      "outputs": []
    },
    {
      "cell_type": "code",
      "source": [
        "before.reshape((1,8))"
      ],
      "metadata": {
        "colab": {
          "base_uri": "https://localhost:8080/"
        },
        "id": "yTPlqSgFAalC",
        "outputId": "6cc92313-88e6-4ee3-c388-42303819db74"
      },
      "execution_count": null,
      "outputs": [
        {
          "output_type": "execute_result",
          "data": {
            "text/plain": [
              "array([[1, 2, 3, 4, 5, 6, 7, 8]])"
            ]
          },
          "metadata": {},
          "execution_count": 31
        }
      ]
    },
    {
      "cell_type": "code",
      "source": [
        "before.reshape((2,4))"
      ],
      "metadata": {
        "colab": {
          "base_uri": "https://localhost:8080/"
        },
        "id": "nSkDtj5EAit6",
        "outputId": "f1bb6c74-743b-4f23-91f6-720d1da205f1"
      },
      "execution_count": null,
      "outputs": [
        {
          "output_type": "execute_result",
          "data": {
            "text/plain": [
              "array([[1, 2, 3, 4],\n",
              "       [5, 6, 7, 8]])"
            ]
          },
          "metadata": {},
          "execution_count": 34
        }
      ]
    },
    {
      "cell_type": "code",
      "source": [
        "before.reshape((4,2))"
      ],
      "metadata": {
        "colab": {
          "base_uri": "https://localhost:8080/"
        },
        "id": "QvCD12DaAol4",
        "outputId": "13ffbd2a-b751-4308-cd5a-5a3e11ddf8a0"
      },
      "execution_count": null,
      "outputs": [
        {
          "output_type": "execute_result",
          "data": {
            "text/plain": [
              "array([[1, 2],\n",
              "       [3, 4],\n",
              "       [5, 6],\n",
              "       [7, 8]])"
            ]
          },
          "metadata": {},
          "execution_count": 35
        }
      ]
    },
    {
      "cell_type": "code",
      "source": [
        "before.reshape((2,2,2))"
      ],
      "metadata": {
        "colab": {
          "base_uri": "https://localhost:8080/"
        },
        "id": "odrWPHLxArNA",
        "outputId": "31cb270d-4924-48db-cc23-ae9fd35103ad"
      },
      "execution_count": null,
      "outputs": [
        {
          "output_type": "execute_result",
          "data": {
            "text/plain": [
              "array([[[1, 2],\n",
              "        [3, 4]],\n",
              "\n",
              "       [[5, 6],\n",
              "        [7, 8]]])"
            ]
          },
          "metadata": {},
          "execution_count": 36
        }
      ]
    },
    {
      "cell_type": "code",
      "source": [
        "#Vertical stack"
      ],
      "metadata": {
        "id": "E1C_E8J-A_Ev"
      },
      "execution_count": null,
      "outputs": []
    },
    {
      "cell_type": "code",
      "source": [
        "v1 = np.array([1,2,3,4])\n",
        "v2 = np.array([5,6,7,8])\n",
        "np.vstack((v1,v2,v1,v2))"
      ],
      "metadata": {
        "colab": {
          "base_uri": "https://localhost:8080/"
        },
        "id": "Bbvrdv75BB-3",
        "outputId": "04d9ab7d-b646-427c-a8d4-30ca9261cedb"
      },
      "execution_count": null,
      "outputs": [
        {
          "output_type": "execute_result",
          "data": {
            "text/plain": [
              "array([[1, 2, 3, 4],\n",
              "       [5, 6, 7, 8],\n",
              "       [1, 2, 3, 4],\n",
              "       [5, 6, 7, 8]])"
            ]
          },
          "metadata": {},
          "execution_count": 38
        }
      ]
    },
    {
      "cell_type": "code",
      "source": [
        "#Horizontal stack"
      ],
      "metadata": {
        "id": "ln1P2WjIBT3Y"
      },
      "execution_count": null,
      "outputs": []
    },
    {
      "cell_type": "code",
      "source": [
        "h1 = np.array([[1,2,5],[9,2,7]])\n",
        "h2 = np.array([[3,4,5],[10,11,8]])\n",
        "np.hstack((h1,h2))"
      ],
      "metadata": {
        "colab": {
          "base_uri": "https://localhost:8080/"
        },
        "id": "vDC8TChyBWlP",
        "outputId": "52a02789-4a95-4ef0-da5c-d56f6c640043"
      },
      "execution_count": null,
      "outputs": [
        {
          "output_type": "execute_result",
          "data": {
            "text/plain": [
              "array([[ 1,  2,  5,  3,  4,  5],\n",
              "       [ 9,  2,  7, 10, 11,  8]])"
            ]
          },
          "metadata": {},
          "execution_count": 45
        }
      ]
    },
    {
      "cell_type": "markdown",
      "source": [
        "Miscellaneous\n"
      ],
      "metadata": {
        "id": "FBfpf-qrDAIr"
      }
    },
    {
      "cell_type": "code",
      "source": [
        "filedata = np.genfromtxt('data.txt', delimiter=',')"
      ],
      "metadata": {
        "id": "pjY9jMyyDG-F"
      },
      "execution_count": null,
      "outputs": []
    },
    {
      "cell_type": "code",
      "source": [
        "filedata"
      ],
      "metadata": {
        "colab": {
          "base_uri": "https://localhost:8080/"
        },
        "id": "1HJjNRmEEP-E",
        "outputId": "910dac6b-9ad8-40b5-d852-b1015406e73c"
      },
      "execution_count": null,
      "outputs": [
        {
          "output_type": "execute_result",
          "data": {
            "text/plain": [
              "array([[  1.,   2.,   3.,   4.,   5.,   6.,  77.,  33.,  53., 767.,  78.,\n",
              "        763., 234.,  56.,  24.,   6.,  64.,   4.],\n",
              "       [ 45.,   6.,  76.,   2.,   9.,  80.,  46.,   2.,  12.,  53.,  21.,\n",
              "         71.,  65.,  15.,  63.,  52.,  84.,  90.],\n",
              "       [ 99.,  34.,  21.,  65.,   7.,  76.,  41.,  26.,  73.,  26., 686.,\n",
              "         88.,  32.,  18.,  98.,  54.,  65.,  12.]])"
            ]
          },
          "metadata": {},
          "execution_count": 62
        }
      ]
    },
    {
      "cell_type": "code",
      "source": [
        "filedata > 50"
      ],
      "metadata": {
        "colab": {
          "base_uri": "https://localhost:8080/"
        },
        "id": "Ro1uO3AIE4FD",
        "outputId": "27e17c60-cf87-461b-d833-b55d389feac5"
      },
      "execution_count": null,
      "outputs": [
        {
          "output_type": "execute_result",
          "data": {
            "text/plain": [
              "array([[False, False, False, False, False, False,  True, False,  True,\n",
              "         True,  True,  True,  True,  True, False, False,  True, False],\n",
              "       [False, False,  True, False, False,  True, False, False, False,\n",
              "         True, False,  True,  True, False,  True,  True,  True,  True],\n",
              "       [ True, False, False,  True, False,  True, False, False,  True,\n",
              "        False,  True,  True, False, False,  True,  True,  True, False]])"
            ]
          },
          "metadata": {},
          "execution_count": 63
        }
      ]
    },
    {
      "cell_type": "code",
      "source": [
        "filedata[filedata > 50]"
      ],
      "metadata": {
        "colab": {
          "base_uri": "https://localhost:8080/"
        },
        "id": "Zt4pGhXFE88j",
        "outputId": "dcd45c54-29ca-4f35-e427-dd4c697efa33"
      },
      "execution_count": null,
      "outputs": [
        {
          "output_type": "execute_result",
          "data": {
            "text/plain": [
              "array([ 77.,  53., 767.,  78., 763., 234.,  56.,  64.,  76.,  80.,  53.,\n",
              "        71.,  65.,  63.,  52.,  84.,  90.,  99.,  65.,  76.,  73., 686.,\n",
              "        88.,  98.,  54.,  65.])"
            ]
          },
          "metadata": {},
          "execution_count": 64
        }
      ]
    },
    {
      "cell_type": "code",
      "source": [
        "a = np.array([1,2,3,4,5,6,7,8,9])\n",
        "a[[2,3,4,5,6]]"
      ],
      "metadata": {
        "colab": {
          "base_uri": "https://localhost:8080/"
        },
        "id": "4guPTetcFAQw",
        "outputId": "aa00a37a-dffc-439e-be8c-a8d3c3b9bbd8"
      },
      "execution_count": null,
      "outputs": [
        {
          "output_type": "execute_result",
          "data": {
            "text/plain": [
              "array([3, 4, 5, 6, 7])"
            ]
          },
          "metadata": {},
          "execution_count": 65
        }
      ]
    },
    {
      "cell_type": "code",
      "source": [
        "np.any(filedata > 50,axis =0)"
      ],
      "metadata": {
        "colab": {
          "base_uri": "https://localhost:8080/"
        },
        "id": "B1umcYlxFU8s",
        "outputId": "5d852733-34fe-4735-a17a-ebb70bb38a2a"
      },
      "execution_count": null,
      "outputs": [
        {
          "output_type": "execute_result",
          "data": {
            "text/plain": [
              "array([ True, False,  True,  True, False,  True,  True, False,  True,\n",
              "        True,  True,  True,  True,  True,  True,  True,  True,  True])"
            ]
          },
          "metadata": {},
          "execution_count": 69
        }
      ]
    },
    {
      "cell_type": "code",
      "source": [
        "np.any(filedata > 50,axis =1)"
      ],
      "metadata": {
        "colab": {
          "base_uri": "https://localhost:8080/"
        },
        "id": "0OY9wLbSFn0k",
        "outputId": "ea25f738-24c6-46a9-d8dc-a55a61edb737"
      },
      "execution_count": null,
      "outputs": [
        {
          "output_type": "execute_result",
          "data": {
            "text/plain": [
              "array([ True,  True,  True])"
            ]
          },
          "metadata": {},
          "execution_count": 70
        }
      ]
    },
    {
      "cell_type": "code",
      "source": [
        "((filedata > 50) & (filedata < 100))"
      ],
      "metadata": {
        "colab": {
          "base_uri": "https://localhost:8080/"
        },
        "id": "h8pZANfBF2ty",
        "outputId": "215b3f33-6e2e-40f5-a32b-4c77a29e018c"
      },
      "execution_count": null,
      "outputs": [
        {
          "output_type": "execute_result",
          "data": {
            "text/plain": [
              "array([[False, False, False, False, False, False,  True, False,  True,\n",
              "        False,  True, False, False,  True, False, False,  True, False],\n",
              "       [False, False,  True, False, False,  True, False, False, False,\n",
              "         True, False,  True,  True, False,  True,  True,  True,  True],\n",
              "       [ True, False, False,  True, False,  True, False, False,  True,\n",
              "        False, False,  True, False, False,  True,  True,  True, False]])"
            ]
          },
          "metadata": {},
          "execution_count": 71
        }
      ]
    },
    {
      "cell_type": "code",
      "source": [
        "(~((filedata > 50) & (filedata < 100)))"
      ],
      "metadata": {
        "colab": {
          "base_uri": "https://localhost:8080/"
        },
        "id": "WxxZxzw3GI2T",
        "outputId": "a205f154-6781-4d0f-daed-f5944215134a"
      },
      "execution_count": null,
      "outputs": [
        {
          "output_type": "execute_result",
          "data": {
            "text/plain": [
              "array([[ True,  True,  True,  True,  True,  True, False,  True, False,\n",
              "         True, False,  True,  True, False,  True,  True, False,  True],\n",
              "       [ True,  True, False,  True,  True, False,  True,  True,  True,\n",
              "        False,  True, False, False,  True, False, False, False, False],\n",
              "       [False,  True,  True, False,  True, False,  True,  True, False,\n",
              "         True,  True, False,  True,  True, False, False, False,  True]])"
            ]
          },
          "metadata": {},
          "execution_count": 72
        }
      ]
    },
    {
      "cell_type": "code",
      "source": [
        "def subsequence(inp, out):\n",
        "    print(\"___________________________________________\")\n",
        "    print(\"0\",inp,out)\n",
        "    if len(inp) == 0:\n",
        "        print(out)\n",
        "        return\n",
        "    print(\"1\",inp,out)\n",
        "    subsequence(inp[1:], out + inp[0])\n",
        "    print(\"2\",inp,out)\n",
        "    subsequence(inp[1:], out)\n",
        "\n",
        "subsequence(\"xyz\", \"\")"
      ],
      "metadata": {
        "colab": {
          "base_uri": "https://localhost:8080/"
        },
        "id": "h8qwB8uVjy6C",
        "outputId": "b861f587-d218-4144-88d6-4e197cb0d3dd"
      },
      "execution_count": null,
      "outputs": [
        {
          "output_type": "stream",
          "name": "stdout",
          "text": [
            "___________________________________________\n",
            "0 xyz \n",
            "1 xyz \n",
            "___________________________________________\n",
            "0 yz x\n",
            "1 yz x\n",
            "___________________________________________\n",
            "0 z xy\n",
            "1 z xy\n",
            "___________________________________________\n",
            "0  xyz\n",
            "xyz\n",
            "2 z xy\n",
            "___________________________________________\n",
            "0  xy\n",
            "xy\n",
            "2 yz x\n",
            "___________________________________________\n",
            "0 z x\n",
            "1 z x\n",
            "___________________________________________\n",
            "0  xz\n",
            "xz\n",
            "2 z x\n",
            "___________________________________________\n",
            "0  x\n",
            "x\n",
            "2 xyz \n",
            "___________________________________________\n",
            "0 yz \n",
            "1 yz \n",
            "___________________________________________\n",
            "0 z y\n",
            "1 z y\n",
            "___________________________________________\n",
            "0  yz\n",
            "yz\n",
            "2 z y\n",
            "___________________________________________\n",
            "0  y\n",
            "y\n",
            "2 yz \n",
            "___________________________________________\n",
            "0 z \n",
            "1 z \n",
            "___________________________________________\n",
            "0  z\n",
            "z\n",
            "2 z \n",
            "___________________________________________\n",
            "0  \n",
            "\n"
          ]
        }
      ]
    },
    {
      "cell_type": "code",
      "source": [
        "def display(arr, index):\n",
        "    if index < len(arr):\n",
        "        print(arr[index], end=\" \")\n",
        "        display(arr, index+1)\n",
        "\n",
        "arr = [1, [2, 3], [4, [5, 6]], 7]\n",
        "display(arr, 0)"
      ],
      "metadata": {
        "id": "YuvrSd9HlZGw"
      },
      "execution_count": null,
      "outputs": []
    }
  ]
}